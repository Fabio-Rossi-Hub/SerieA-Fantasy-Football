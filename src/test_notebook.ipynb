{
 "cells": [
  {
   "cell_type": "code",
   "execution_count": 21,
   "metadata": {},
   "outputs": [],
   "source": [
    "from bs4 import BeautifulSoup , Comment\n",
    "import requests\n",
    "import lxml\n",
    "\n",
    "import pandas as pd\n",
    "url = 'https://fbref.com/en/comps/Big5/2022-2023/keepers/players/2022-2023-Big-5-European-Leagues-Stats'\n"
   ]
  },
  {
   "cell_type": "code",
   "execution_count": 22,
   "metadata": {},
   "outputs": [],
   "source": [
    "df = pd.read_html(url)[0]\n",
    "\n",
    "# creating a data with the same headers but without multi indexing\n",
    "df.columns = [' '.join(col).strip() for col in df.columns]\n",
    "\n",
    "df = df.reset_index(drop=True)\n",
    "\n",
    "# creating a list with new names\n",
    "new_columns = []\n",
    "for col in df.columns:\n",
    "    if 'level_0' in col:\n",
    "        new_col = col.split()[-1]  # takes the last name\n",
    "    else:\n",
    "        new_col = col\n",
    "    new_columns.append(new_col)\n",
    "\n",
    "# rename columns\n",
    "df.columns = new_columns\n",
    "\n"
   ]
  },
  {
   "cell_type": "code",
   "execution_count": 23,
   "metadata": {},
   "outputs": [
    {
     "data": {
      "text/plain": [
       "Index(['Rk', 'Player', 'Nation', 'Pos', 'Squad', 'Comp', 'Age', 'Born',\n",
       "       'Playing Time MP', 'Playing Time Starts', 'Playing Time Min', '90s',\n",
       "       'Performance GA', 'Performance GA90', 'Performance SoTA',\n",
       "       'Performance Saves', 'Performance Save%', 'Performance W',\n",
       "       'Performance D', 'Performance L', 'Performance CS', 'Performance CS%',\n",
       "       'Penalty Kicks PKatt', 'Penalty Kicks PKA', 'Penalty Kicks PKsv',\n",
       "       'Penalty Kicks PKm', 'Penalty Kicks Save%', 'Matches'],\n",
       "      dtype='object')"
      ]
     },
     "execution_count": 23,
     "metadata": {},
     "output_type": "execute_result"
    }
   ],
   "source": [
    "df.columns"
   ]
  }
 ],
 "metadata": {
  "kernelspec": {
   "display_name": "Python 3",
   "language": "python",
   "name": "python3"
  },
  "language_info": {
   "codemirror_mode": {
    "name": "ipython",
    "version": 3
   },
   "file_extension": ".py",
   "mimetype": "text/x-python",
   "name": "python",
   "nbconvert_exporter": "python",
   "pygments_lexer": "ipython3",
   "version": "3.11.4"
  },
  "orig_nbformat": 4
 },
 "nbformat": 4,
 "nbformat_minor": 2
}
